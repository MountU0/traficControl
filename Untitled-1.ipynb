{
 "cells": [
  {
   "cell_type": "code",
   "execution_count": 1,
   "metadata": {},
   "outputs": [],
   "source": [
    "import os\n",
    "import math\n",
    "import numpy as np\n",
    "import pandas as pd\n",
    "from tqdm import tqdm_notebook\n",
    "import matplotlib.pyplot as plt\n",
    "%matplotlib inline\n",
    "\n",
    "# модули библиотеки PyTorch\n",
    "import torch\n",
    "from torchvision import transforms\n",
    "from torch.utils.data import DataLoader\n",
    "from skimage import io\n",
    "# метрика качества \n",
    "from sklearn.metrics import accuracy_score"
   ]
  },
  {
   "cell_type": "markdown",
   "metadata": {},
   "source": [
    "Объединим 3 фолда в трейн сет, а 4-й будет тестовым;\\\n",
    "Создадим соотвествующие csv файлы"
   ]
  },
  {
   "cell_type": "code",
   "execution_count": 3,
   "metadata": {},
   "outputs": [],
   "source": [
    "def dictFill(file, dict):\n",
    "    lines= []\n",
    "    with open(file, 'r', encoding='UTF8') as f:\n",
    "        lines = f.read().splitlines()\n",
    "    for i in lines:\n",
    "        dict[i] = i[:i.find('.')]\n",
    "    return dict\n",
    "\n",
    "trainData = dict()\n",
    "trainData = dictFill('folds/fold0.txt',trainData)\n",
    "trainData = dictFill('folds/fold1.txt',trainData)\n",
    "trainData = dictFill('folds/fold2.txt',trainData)\n",
    "\n",
    "testData = dict()\n",
    "testData = dictFill('folds/fold3.txt',testData)"
   ]
  },
  {
   "cell_type": "code",
   "execution_count": null,
   "metadata": {},
   "outputs": [],
   "source": []
  }
 ],
 "metadata": {
  "kernelspec": {
   "display_name": "Python 3.9.7 ('base')",
   "language": "python",
   "name": "python3"
  },
  "language_info": {
   "codemirror_mode": {
    "name": "ipython",
    "version": 3
   },
   "file_extension": ".py",
   "mimetype": "text/x-python",
   "name": "python",
   "nbconvert_exporter": "python",
   "pygments_lexer": "ipython3",
   "version": "3.9.7"
  },
  "orig_nbformat": 4,
  "vscode": {
   "interpreter": {
    "hash": "b3b23bf8f3f6f09929416757a9e34fd2204c59a899796a7e0ad7c0ed7ebb50e4"
   }
  }
 },
 "nbformat": 4,
 "nbformat_minor": 2
}
